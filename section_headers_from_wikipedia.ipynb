{
 "cells": [
  {
   "cell_type": "code",
   "execution_count": 1,
   "metadata": {},
   "outputs": [],
   "source": [
    "import re\n",
    "import pandas as pd\n",
    "import bz2"
   ]
  },
  {
   "cell_type": "code",
   "execution_count": 2,
   "metadata": {},
   "outputs": [],
   "source": [
    "file_name = \"C:/Users/User/Desktop/enwiki-latest-pages-articles10.xml-p4045403p5399366.bz2\"\n",
    "\n",
    "with bz2.open(file_name, \"rb\") as f:\n",
    "    content = f.read().decode('utf-8')"
   ]
  },
  {
   "cell_type": "code",
   "execution_count": 156,
   "metadata": {},
   "outputs": [],
   "source": [
    "def find_section_headers(text, file):\n",
    "    for match in re.finditer(\"((={2,})( ?)(.*?)( ?)(={2,}))|<title>(.*)</title>\",text):\n",
    "        x = re.search(\"\\(\\{\\{[Nn]o [Mm]ore [Ll]inks\\}\\}\\)\",match.group())\n",
    "        if x:\n",
    "            continue\n",
    "        if match.group(3) or match.group(5):\n",
    "            k = match.group(2) + match.group(4) + match.group(6) + \"\\n\"\n",
    "        else:\n",
    "            k = match.group() + \"\\n\"\n",
    "        file.write(k)\n",
    "    file.close()"
   ]
  },
  {
   "cell_type": "code",
   "execution_count": 127,
   "metadata": {},
   "outputs": [],
   "source": [
    "def image_in_section(path):\n",
    "    img = \" ?\\[\\[File:[^\\]]+\\]\\]\"\n",
    "    x = re.search(img,path)\n",
    "    if x:\n",
    "        path = re.sub(img,\"\",path)\n",
    "    return path"
   ]
  },
  {
   "cell_type": "code",
   "execution_count": 128,
   "metadata": {},
   "outputs": [],
   "source": [
    "def delete_linking(path):\n",
    "    #x = re.search(\"\\[\\[(.*)?\\|(.*)?\\]\\]|\\[\\[(.*)?\\]\\]\",path)\n",
    "    path = image_in_section(path)\n",
    "    for x in re.finditer(\"\\[\\[([^\\]]+)\\|([^\\]]+)\\]\\]|\\[\\[([^\\]]+)\\]\\]\",path):\n",
    "        if x:\n",
    "            if x.group(3):\n",
    "                path = re.sub(re.escape(x.group()), x.group(3),path)\n",
    "            elif x.group(2):\n",
    "                path = re.sub(re.escape(x.group()), x.group(2),path)\n",
    "   \n",
    "    return path"
   ]
  },
  {
   "cell_type": "code",
   "execution_count": 5,
   "metadata": {},
   "outputs": [],
   "source": [
    "def add(x, y):\n",
    "    z = x + \"\\t\" + y\n",
    "    return z"
   ]
  },
  {
   "cell_type": "code",
   "execution_count": 70,
   "metadata": {},
   "outputs": [],
   "source": [
    "def hierarchy(text, file_headers):\n",
    "    for match in re.finditer(\"(={2,})(.*?)={2,}|<title>(.*)</title>\",text):\n",
    "        if match.group()[0] == \"<\":\n",
    "            title = match.group(3)\n",
    "            is_wiki_or_file = 0\n",
    "            if (len(re.findall(\"Wikipedia:|File:|Help:|Template:\",title)) > 0):\n",
    "                is_wiki_or_file = 1\n",
    "                continue\n",
    "            level = 0\n",
    "            path = title    \n",
    "        elif (is_wiki_or_file == 0):\n",
    "            if len(match.group(1)) > level:\n",
    "                temp = path\n",
    "                level = len(match.group(1))\n",
    "                path = add(match.group(0),path)\n",
    "                new_path = re.sub(\"=\",\"\",path);\n",
    "                #new_path = image_in_section(new_path)\n",
    "                new_path = delete_linking(new_path)\n",
    "                file_headers.write(new_path + \"\\n\")\n",
    "                #print(path + \"\\n\")\n",
    "\n",
    "            elif len(match.group(1)) == level:\n",
    "                path = add(match.group(0),temp)\n",
    "                new_path = re.sub(\"=\",\"\",path);\n",
    "                #new_path = image_in_section(new_path)\n",
    "                new_path = delete_linking(new_path)\n",
    "                file_headers.write(new_path + \"\\n\")\n",
    "                #print(path + \"\\n\")\n",
    "\n",
    "            else:\n",
    "                while(1):\n",
    "                    x = re.search(\"(={2,})(.*?)\\t\",temp)\n",
    "                    if x:\n",
    "                        if len(match.group(1)) <= len(x.group(1)):\n",
    "                            temp = temp[(x.end()):]\n",
    "                            if len(match.group(1)) == len(x.group(1)):\n",
    "                                break\n",
    "                        else:\n",
    "                            break\n",
    "                    else:\n",
    "                        break\n",
    "\n",
    "                level = len(match.group(1))\n",
    "                path = add(match.group(0),temp)\n",
    "                new_path = re.sub(\"=\",\"\",path);\n",
    "                #new_path = image_in_section(new_path)\n",
    "                new_path = delete_linking(new_path)\n",
    "                file_headers.write(new_path + \"\\n\")\n",
    "\n",
    "                #print(path + \"\\n\")\n",
    "\n",
    "    file_headers.close()          "
   ]
  },
  {
   "cell_type": "code",
   "execution_count": 166,
   "metadata": {},
   "outputs": [],
   "source": [
    "def edit_characters(file_unedit, text):\n",
    "    x = re.sub(\"\\'\\'\",\"\",text)\n",
    "    x = re.sub(\"&quot;\",\"\\\"\",x)\n",
    "    x = re.sub(\"&amp;\",\"&\",x)\n",
    "    x = re.sub(\"( ?\\{\\{[Aa]nchor ?\\|[^\\}]+\\}\\} ?|\\{\\{[Aa]nchor\\}\\})\",\"\",x)\n",
    "    file_unedit.write(x)\n",
    "    file_unedit.close()"
   ]
  },
  {
   "cell_type": "code",
   "execution_count": 158,
   "metadata": {},
   "outputs": [],
   "source": [
    "file_parse_bigger_data = open(\"data/file_parse_bigger_data.txt\",\"w\",encoding=\"utf8\")\n",
    "find_section_headers(content, file_parse_bigger_data)"
   ]
  },
  {
   "cell_type": "code",
   "execution_count": 159,
   "metadata": {},
   "outputs": [],
   "source": [
    "file = open(\"data/file_parse_bigger_data.txt\", encoding=\"utf8\")\n",
    "text = file.read()\n",
    "file.close()\n",
    "\n",
    "file_headers = open(\"data/headers_bigger_data.txt\",\"w\",encoding=\"utf8\")\n",
    "hierarchy(text,file_headers)"
   ]
  },
  {
   "cell_type": "code",
   "execution_count": 167,
   "metadata": {},
   "outputs": [],
   "source": [
    "file_unedited = open(\"data/headers_bigger_data.txt\", encoding=\"utf8\")\n",
    "text = file_unedited.read()\n",
    "file_unedited.close()\n",
    "\n",
    "file_edit = open(\"data/headers_bigger_data_edited.txt\",\"w\",encoding=\"utf8\")\n",
    "edit_characters(file_edit, text)\n"
   ]
  },
  {
   "cell_type": "code",
   "execution_count": null,
   "metadata": {},
   "outputs": [],
   "source": []
  }
 ],
 "metadata": {
  "kernelspec": {
   "display_name": "Python 3",
   "language": "python",
   "name": "python3"
  },
  "language_info": {
   "codemirror_mode": {
    "name": "ipython",
    "version": 3
   },
   "file_extension": ".py",
   "mimetype": "text/x-python",
   "name": "python",
   "nbconvert_exporter": "python",
   "pygments_lexer": "ipython3",
   "version": "3.7.3"
  }
 },
 "nbformat": 4,
 "nbformat_minor": 2
}
